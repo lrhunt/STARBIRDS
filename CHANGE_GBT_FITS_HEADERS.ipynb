{
 "cells": [
  {
   "cell_type": "code",
   "execution_count": 1,
   "metadata": {},
   "outputs": [],
   "source": [
    "import astropy as ap\n",
    "import numpy as np\n",
    "import os\n",
    "from astropy.io import fits"
   ]
  },
  {
   "cell_type": "markdown",
   "metadata": {},
   "source": [
    "Below we set the values for the directory we need to access, the list of files in that directory, and the values we need to remove. "
   ]
  },
  {
   "cell_type": "code",
   "execution_count": 2,
   "metadata": {},
   "outputs": [],
   "source": [
    "GBT_dir='/Users/lucashunt/ASTRODATA/STARBIRDS/GBT_FITS/'\n",
    "fits_files=os.listdir(GBT_dir)\n",
    "vals2remove=['CROTA3','CROTA4','CTYPE4']"
   ]
  },
  {
   "cell_type": "markdown",
   "metadata": {},
   "source": [
    "Below we want to iterate through the list of fits files in our gbt fits directory. We open each fits file, make sure the header contains NAXIS=2 and that at least one of the values in our vals2remove list is present, and then remove the keys. "
   ]
  },
  {
   "cell_type": "code",
   "execution_count": 3,
   "metadata": {},
   "outputs": [],
   "source": [
    "for fl in fits_files:\n",
    "    if 'mom0' in fl:\n",
    "        with fits.open(GBT_dir+fl,mode='update') as hdu:        \n",
    "            hdr=hdu[0].header\n",
    "            if (hdr['NAXIS']==2 and set(list(hdr.keys())).intersection(vals2remove)):\n",
    "                for hkey in vals2remove:\n",
    "                    del hdu[0].header[hkey]\n",
    "            for text in hdu[0].header['HISTORY']:\n",
    "                if 'BMAJ' in text:\n",
    "                    hdu[0].header['BMAJ']=float(text.split()[text.split().index('BMAJ=')+1])\n",
    "                    hdu[0].header['BMIN']=float(text.split()[text.split().index('BMIN=')+1])\n",
    "                    hdu[0].header['BPA']=float(text.split()[text.split().index('BPA=')+1])\n",
    "                    "
   ]
  },
  {
   "cell_type": "code",
   "execution_count": null,
   "metadata": {},
   "outputs": [],
   "source": []
  }
 ],
 "metadata": {
  "kernelspec": {
   "display_name": "Python 3",
   "language": "python",
   "name": "python3"
  },
  "language_info": {
   "codemirror_mode": {
    "name": "ipython",
    "version": 3
   },
   "file_extension": ".py",
   "mimetype": "text/x-python",
   "name": "python",
   "nbconvert_exporter": "python",
   "pygments_lexer": "ipython3",
   "version": "3.6.7"
  }
 },
 "nbformat": 4,
 "nbformat_minor": 2
}
