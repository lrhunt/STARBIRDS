{
 "cells": [
  {
   "cell_type": "code",
   "execution_count": 1,
   "metadata": {},
   "outputs": [],
   "source": [
    "import astropy as ap\n",
    "import numpy as np\n",
    "import os\n",
    "from astropy.io import fits"
   ]
  },
  {
   "cell_type": "code",
   "execution_count": 2,
   "metadata": {},
   "outputs": [],
   "source": [
    "GBT_dir='/Users/lucashunt/ASTRODATA/STARBIRDS/GBT_FITS/'\n",
    "fits_files=os.listdir(GBT_dir)"
   ]
  },
  {
   "cell_type": "markdown",
   "metadata": {},
   "source": [
    "The header has the wrong coordinate system (Observations in Galactic, Header listed as RA/DEC). The positions in galactic coordinates are correct."
   ]
  },
  {
   "cell_type": "code",
   "execution_count": 3,
   "metadata": {},
   "outputs": [],
   "source": [
    "for fl in fits_files:\n",
    "    if 'GBT' in fl:\n",
    "        with fits.open(GBT_dir+fl,mode='update') as hdu:        \n",
    "            if hdu[0].header['CTYPE1']=='RA---GLS':     \n",
    "                hdu[0].header['CTYPE1']='GLON-GLS'\n",
    "                hdu[0].header['CTYPE2']='GLAT-GLS'"
   ]
  }
 ],
 "metadata": {
  "kernelspec": {
   "display_name": "Python 3",
   "language": "python",
   "name": "python3"
  },
  "language_info": {
   "codemirror_mode": {
    "name": "ipython",
    "version": 3
   },
   "file_extension": ".py",
   "mimetype": "text/x-python",
   "name": "python",
   "nbconvert_exporter": "python",
   "pygments_lexer": "ipython3",
   "version": "3.6.7"
  }
 },
 "nbformat": 4,
 "nbformat_minor": 2
}
