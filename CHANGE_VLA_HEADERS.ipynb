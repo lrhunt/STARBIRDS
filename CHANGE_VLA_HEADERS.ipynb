{
 "cells": [
  {
   "cell_type": "markdown",
   "metadata": {},
   "source": [
    "We need to change the header in the VLA files to extract the beam information from the history comments and add it to the actual file. This way APLPy can create a beam object (because it is too stupid to look through the history)"
   ]
  },
  {
   "cell_type": "code",
   "execution_count": 3,
   "metadata": {},
   "outputs": [],
   "source": [
    "import astropy as ap\n",
    "import numpy as np\n",
    "import os\n",
    "from astropy.io import fits"
   ]
  },
  {
   "cell_type": "markdown",
   "metadata": {},
   "source": [
    "Define VLA dir and find all the fits files"
   ]
  },
  {
   "cell_type": "code",
   "execution_count": 4,
   "metadata": {},
   "outputs": [],
   "source": [
    "VLA_DIR='/Users/lucashunt/ASTRODATA/STARBIRDS/VLA_Mom0/'\n",
    "fits_files=os.listdir(VLA_DIR)\n",
    "vals2remove=['CRPIX3','CRVAL3','CTYPE3','CROTA3','CDELT3','CDELT4','CRVAL4','CTYPE4','CUNIT4','DRVAL4','CRPIX4','CROTA4','DTYPE4','DUNIT4','NAXIS3','NAXIS4']"
   ]
  },
  {
   "cell_type": "markdown",
   "metadata": {},
   "source": [
    "For loop that edits each file and adds the keywords BMIN, BMAJ, BPA to the header. \n",
    "\n",
    "The split command breaks up a string into a list of strings separated by any space. If you put a string in split, it will separate by the string (e.x. the file this.is.a.fits will be split into ['this','is','a','fits'] by using 'this.is.a.fits'.split('.')). \n",
    "\n",
    "The lower() converts a string to entirely lower case, allowing you to parse the string without any case sensitivity (otherwise endswith() is case sensitive). "
   ]
  },
  {
   "cell_type": "code",
   "execution_count": 10,
   "metadata": {},
   "outputs": [
    {
     "name": "stdout",
     "output_type": "stream",
     "text": [
      ".DS_Store\n",
      "DDO165_NA_X0_P_R.FITS\n",
      "NAXIS3\n",
      "NAXIS4\n",
      "2\n",
      "DDO187_NA_X0_P_R.FITS\n",
      "NAXIS3\n",
      "NAXIS4\n",
      "2\n",
      "DDO50_NA_X0_P_R.FITS\n",
      "NAXIS3\n",
      "NAXIS4\n",
      "2\n",
      "M81DWA_NA_X0_P_R.FITS\n",
      "NAXIS3\n",
      "NAXIS4\n",
      "2\n",
      "NGC1569_NA_X0_P_R.FITS\n",
      "NAXIS3\n",
      "NAXIS4\n",
      "2\n",
      "NGC2366_NA_X0_P_R.FITS\n",
      "NAXIS3\n",
      "NAXIS4\n",
      "2\n",
      "NGC4068_FR-I-21cm-h2002.fits\n",
      "2\n",
      "NGC625_ATCA_mom0.fits\n",
      "2\n",
      "NGC672_FR-I-21cm-h2002.fits\n",
      "2\n",
      "NGC784_FR-I-21cm-h2002.fits\n",
      "2\n",
      "NGC_2403_NA_MOM0_THINGS.FITS\n",
      "NAXIS3\n",
      "NAXIS4\n",
      "2\n",
      "NGC_3627_NA_MOM0_THINGS.FITS\n",
      "NAXIS3\n",
      "NAXIS4\n",
      "2\n",
      "VIIZw403_NA_X0_P_R.FITS\n",
      "NAXIS3\n",
      "NAXIS4\n",
      "2\n",
      "VLA-ANGST_HI_UGC4483-nat-Mom0.fits\n",
      "NAXIS3\n",
      "NAXIS4\n",
      "2\n",
      "VLA_Mom0.zip\n"
     ]
    }
   ],
   "source": [
    "for fl in fits_files:\n",
    "    print(fl)\n",
    "    if fl.lower().endswith('fits'):\n",
    "        bmaj=False\n",
    "        write=False\n",
    "        with fits.open(VLA_DIR+fl,mode='update') as hdu:\n",
    "            if (hdu[0].header['NAXIS']==4 and set(list(hdu[0].header.keys())).intersection(vals2remove)):\n",
    "                write=True\n",
    "                hkey=list(hdu[0].header.keys())\n",
    "                for val in vals2remove:\n",
    "                    if val in hkey:\n",
    "                        del hdu[0].header[val]\n",
    "                        print(val)\n",
    "            for text in hdu[0].header['HISTORY']:\n",
    "                if 'BMAJ' in text:\n",
    "                    hdu[0].header['BMAJ']=float(text.split()[text.split().index('BMAJ=')+1])\n",
    "                    hdu[0].header['BMIN']=float(text.split()[text.split().index('BMIN=')+1])\n",
    "                    hdu[0].header['BPA']=float(text.split()[text.split().index('BPA=')+1])\n",
    "                    bmaj=True\n",
    "            if not bmaj:\n",
    "                hdu[0].header['BMAJ']=30./3600.\n",
    "                hdu[0].header['BMIN']=14./3600.\n",
    "                hdu[0].header['BPA']=10\n",
    "            hdu[0].header['NAXIS']=2\n",
    "            print(hdu[0].header['NAXIS'])\n",
    "            if write:\n",
    "                fits.writeto(VLA_DIR+'fixed_'+fl,data=hdu[0].data[0][0],header=hdu[0].header,overwrite=True)\n",
    "            else:\n",
    "                fits.writeto(VLA_DIR+'fixed_'+fl,data=hdu[0].data,header=hdu[0].header,overwrite=True)"
   ]
  }
 ],
 "metadata": {
  "kernelspec": {
   "display_name": "Python 3",
   "language": "python",
   "name": "python3"
  },
  "language_info": {
   "codemirror_mode": {
    "name": "ipython",
    "version": 3
   },
   "file_extension": ".py",
   "mimetype": "text/x-python",
   "name": "python",
   "nbconvert_exporter": "python",
   "pygments_lexer": "ipython3",
   "version": "3.6.7"
  }
 },
 "nbformat": 4,
 "nbformat_minor": 2
}
