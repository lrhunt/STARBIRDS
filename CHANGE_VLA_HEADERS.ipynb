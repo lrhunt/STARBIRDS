{
 "cells": [
  {
   "cell_type": "markdown",
   "metadata": {},
   "source": [
    "We need to change the header in the VLA files to extract the beam information from the history comments and add it to the actual file. This way APLPy can create a beam object (because it is too stupid to look through the history)"
   ]
  },
  {
   "cell_type": "code",
   "execution_count": 1,
   "metadata": {},
   "outputs": [],
   "source": [
    "import astropy as ap\n",
    "import numpy as np\n",
    "import os\n",
    "from astropy.io import fits"
   ]
  },
  {
   "cell_type": "markdown",
   "metadata": {},
   "source": [
    "Define VLA dir and find all the fits files"
   ]
  },
  {
   "cell_type": "code",
   "execution_count": 2,
   "metadata": {},
   "outputs": [],
   "source": [
    "VLA_DIR='/Users/lucashunt/ASTRODATA/STARBIRDS/VLA_Mom0/'\n",
    "fits_files=os.listdir(VLA_DIR)\n",
    "vals2remove=['CRPIX3','CRVAL3','CTYPE3','CDELT4','CRVAL4','CTYPE4','CUNIT4','DRVAL4','DTYPE4','DUNIT4']"
   ]
  },
  {
   "cell_type": "markdown",
   "metadata": {},
   "source": [
    "For loop that edits each file and adds the keywords BMIN, BMAJ, BPA to the header. \n",
    "\n",
    "The split command breaks up a string into a list of strings separated by any space. If you put a string in split, it will separate by the string (e.x. the file this.is.a.fits will be split into ['this','is','a','fits'] by using 'this.is.a.fits'.split('.')). \n",
    "\n",
    "The lower() converts a string to entirely lower case, allowing you to parse the string without any case sensitivity (otherwise endswith() is case sensitive). "
   ]
  },
  {
   "cell_type": "code",
   "execution_count": 5,
   "metadata": {},
   "outputs": [],
   "source": [
    "for fl in fits_files:\n",
    "    if fl.lower().endswith('fits'):\n",
    "        with fits.open(VLA_DIR+fl,mode='update') as hdu:\n",
    "            hdr=hdu[0].header\n",
    "            if (hdr['NAXIS']==3 and set(list(hdr.keys())).intersection(vals2remove)):\n",
    "                hdu[0].header['NAXIS']=2\n",
    "                del hdu[0].header['NAXIS3']\n",
    "                for hkey in set(list(hdr.keys())).intersection(vals2remove):\n",
    "                    del hdu[0].header[hkey]\n",
    "            for text in hdu[0].header['HISTORY']:\n",
    "                if 'BMAJ' in text:\n",
    "                    hdu[0].header['BMAJ']=float(text.split()[text.split().index('BMAJ=')+1])\n",
    "                    hdu[0].header['BMIN']=float(text.split()[text.split().index('BMIN=')+1])\n",
    "                    hdu[0].header['BPA']=float(text.split()[text.split().index('BPA=')+1])\n",
    "                else:\n",
    "                    hdu[0].header['BMAJ']=30./3600.\n",
    "                    hdu[0].header['BMIN']=14./3600.\n",
    "                    hdu[0].header['BPA']=10\n",
    "                    "
   ]
  }
 ],
 "metadata": {
  "kernelspec": {
   "display_name": "Python 3",
   "language": "python",
   "name": "python3"
  },
  "language_info": {
   "codemirror_mode": {
    "name": "ipython",
    "version": 3
   },
   "file_extension": ".py",
   "mimetype": "text/x-python",
   "name": "python",
   "nbconvert_exporter": "python",
   "pygments_lexer": "ipython3",
   "version": "3.6.6"
  }
 },
 "nbformat": 4,
 "nbformat_minor": 2
}
