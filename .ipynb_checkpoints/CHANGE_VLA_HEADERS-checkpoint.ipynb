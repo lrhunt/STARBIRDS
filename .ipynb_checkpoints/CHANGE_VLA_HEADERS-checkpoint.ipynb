{
 "cells": [
  {
   "cell_type": "markdown",
   "metadata": {},
   "source": [
    "We need to change the header in the VLA files to extract the beam information from the history comments and add it to the actual file. This way APLPy can create a beam object (because it is too stupid to look through the history)"
   ]
  },
  {
   "cell_type": "code",
   "execution_count": 2,
   "metadata": {},
   "outputs": [],
   "source": [
    "import astropy as ap\n",
    "import numpy as np\n",
    "import os\n",
    "from astropy.io import fits"
   ]
  },
  {
   "cell_type": "markdown",
   "metadata": {},
   "source": [
    "Define VLA dir and find all the fits files"
   ]
  },
  {
   "cell_type": "code",
   "execution_count": 3,
   "metadata": {},
   "outputs": [],
   "source": [
    "VLA_DIR='/Users/lucashunt/ASTRODATA/STARBIRDS/VLA_Mom0/'\n",
    "fits_files=os.listdir(VLA_DIR)\n",
    "vals2remove=['CRPIX3','CRVAL3','CTYPE3','CROTA3','CDELT3','CDELT4','CRVAL4','CTYPE4','CUNIT4','DRVAL4','CRPIX4','CROTA4','DTYPE4','DUNIT4','NAXIS3','NAXIS4']"
   ]
  },
  {
   "cell_type": "markdown",
   "metadata": {},
   "source": [
    "For loop that edits each file and adds the keywords BMIN, BMAJ, BPA to the header. \n",
    "\n",
    "The split command breaks up a string into a list of strings separated by any space. If you put a string in split, it will separate by the string (e.x. the file this.is.a.fits will be split into ['this','is','a','fits'] by using 'this.is.a.fits'.split('.')). \n",
    "\n",
    "The lower() converts a string to entirely lower case, allowing you to parse the string without any case sensitivity (otherwise endswith() is case sensitive). "
   ]
  },
  {
   "cell_type": "code",
   "execution_count": null,
   "metadata": {},
   "outputs": [
    {
     "name": "stdout",
     "output_type": "stream",
     "text": [
      "DDO165_NA_X0_P_R.FITS\n"
     ]
    }
   ],
   "source": [
    "for fl in fits_files:\n",
    "    print(fl)\n",
    "    if fl.lower().endswith('fits'):\n",
    "        bmaj=False\n",
    "        with fits.open(VLA_DIR+fl,mode='update') as hdu:\n",
    "            if (hdu[0].header['NAXIS']==4 and set(list(hdu[0].header.keys())).intersection(vals2remove)):\n",
    "                hkey=list(hdu[0].header.keys())\n",
    "                for val in vals2remove:\n",
    "                    if val in hkey:\n",
    "                        del hdu[0].header[val]\n",
    "                        print(val)\n",
    "            for text in hdu[0].header['HISTORY']:\n",
    "                if 'BMAJ' in text:\n",
    "                    hdu[0].header['BMAJ']=float(text.split()[text.split().index('BMAJ=')+1])\n",
    "                    hdu[0].header['BMIN']=float(text.split()[text.split().index('BMIN=')+1])\n",
    "                    hdu[0].header['BPA']=float(text.split()[text.split().index('BPA=')+1])\n",
    "                    bmaj=True\n",
    "                if not bmaj:\n",
    "                    hdu[0].header['BMAJ']=30./3600.\n",
    "                    hdu[0].header['BMIN']=14./3600.\n",
    "                    hdu[0].header['BPA']=10\n",
    "            hdu[0].header['NAXIS']=2\n",
    "            print(hdu[0].header['NAXIS'])\n",
    "            hdu.writeto(VLA_DIR+'fixed_'+fl,data=hdu[0].data[0][0],header=hdu[0].header)"
   ]
  },
  {
   "cell_type": "code",
   "execution_count": 19,
   "metadata": {},
   "outputs": [
    {
     "name": "stdout",
     "output_type": "stream",
     "text": [
      "CHANGE_GBT_FITS_HEADERS.ipynb\r\n",
      "CHANGE_VLA_HEADERS.ipynb\r\n",
      "Change_Coordinate_of_GBT_Header.ipynb\r\n",
      "DDO165_NA_X0_P_R.FITS\r\n",
      "DDO187_NA_X0_P_R.FITS\r\n",
      "DDO50_NA_X0_P_R.FITS\r\n",
      "M81DWA_NA_X0_P_R.FITS\r\n",
      "M81DWA_NA_X0_P_R_mod.FITS\r\n",
      "Make_Contour_Plots.ipynb\r\n",
      "Make_Contour_Plots_WithoutAPLPY.ipynb\r\n",
      "NGC1569_NA_X0_P_R.FITS\r\n",
      "NGC2366_NA_X0_P_R.FITS\r\n",
      "NGC4068_FR-I-21cm-h2002.fits\r\n",
      "NGC625_ATCA_mom0.fits\r\n",
      "NGC672_FR-I-21cm-h2002.fits\r\n",
      "NGC784_FR-I-21cm-h2002.fits\r\n",
      "NGC_2403_NA_MOM0_THINGS.FITS\r\n",
      "NGC_3627_NA_MOM0_THINGS.FITS\r\n",
      "make_startbirds_contour.txt\r\n",
      "update_DDO165_NA_X0_P_R.FITS\r\n",
      "update_DDO187_NA_X0_P_R.FITS\r\n",
      "update_DDO50_NA_X0_P_R.FITS\r\n",
      "update_M81DWA_NA_X0_P_R.FITS\r\n",
      "update_M81DWA_NA_X0_P_R_mod.FITS\r\n",
      "update_NGC1569_NA_X0_P_R.FITS\r\n",
      "update_NGC2366_NA_X0_P_R.FITS\r\n",
      "update_NGC4068_FR-I-21cm-h2002.fits\r\n",
      "update_NGC625_ATCA_mom0.fits\r\n",
      "update_NGC672_FR-I-21cm-h2002.fits\r\n",
      "update_NGC784_FR-I-21cm-h2002.fits\r\n",
      "update_NGC_2403_NA_MOM0_THINGS.FITS\r\n",
      "update_NGC_3627_NA_MOM0_THINGS.FITS\r\n",
      "update_VIIZw403_NA_X0_P_R.FITS\r\n",
      "update_VLA-ANGST_HI_UGC4483-nat-Mom0.fits\r\n"
     ]
    }
   ],
   "source": []
  }
 ],
 "metadata": {
  "kernelspec": {
   "display_name": "Python 3",
   "language": "python",
   "name": "python3"
  },
  "language_info": {
   "codemirror_mode": {
    "name": "ipython",
    "version": 3
   },
   "file_extension": ".py",
   "mimetype": "text/x-python",
   "name": "python",
   "nbconvert_exporter": "python",
   "pygments_lexer": "ipython3",
   "version": "3.6.7"
  }
 },
 "nbformat": 4,
 "nbformat_minor": 2
}
